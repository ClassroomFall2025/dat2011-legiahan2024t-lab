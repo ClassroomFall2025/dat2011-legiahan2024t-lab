def menu():
ef menu():
    while True:
        print("\n===== HỆ THỐNG QUẢN LÝ NHÂN SỰ - CÔNG TY RỒNG VIỆT =====")
        print("1. Nhập danh sách nhân viên và lưu file")
        print("2. Đọc danh sách nhân viên từ file và xuất ra màn hình")
        print("3. Tìm nhân viên theo mã")
        print("4. Xóa nhân viên theo mã")
        print("5. Cập nhật thông tin nhân viên theo mã")
        print("6. Tìm nhân viên theo khoảng lương")
        print("7. Sắp xếp nhân viên theo họ tên")
        print("8. Sắp xếp nhân viên theo thu nhập")
        print("9. Xuất 5 nhân viên có thu nhập cao nhất")
        print("0. Thoát chương trình")

        chon = input(">> Nhập lựa chọn của bạn: ")

        if chon == "1":
            print(">>> Chức năng: Nhập danh sách nhân viên và lưu file")
        elif chon == "2":
            print(">>> Chức năng: Đọc danh sách nhân viên từ file và xuất ra màn hình")
        elif chon == "3":
            print(">>> Chức năng: Tìm nhân viên theo mã")
        elif chon == "4":
            print(">>> Chức năng: Xóa nhân viên theo mã")
        elif chon == "5":
            print(">>> Chức năng: Cập nhật thông tin nhân viên theo mã")
        elif chon == "6":
            print(">>> Chức năng: Tìm nhân viên theo khoảng lương")
        elif chon == "7":
            print(">>> Chức năng: Sắp xếp nhân viên theo họ tên")
        elif chon == "8":
            print(">>> Chức năng: Sắp xếp nhân viên theo thu nhập")
        elif chon == "9":
            print(">>> Chức năng: Xuất 5 nhân viên có thu nhập cao nhất")
        elif chon == "0":
            print(">>> Thoát chương trình. Tạm biệt!")
            break
        else:
            print(">>> Lựa chọn không hợp lệ, vui lòng nhập lại!")


# Chạy chương trình
if __name__ == "__main__":
    menu()
