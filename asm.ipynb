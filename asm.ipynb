{
 "cells": [
  {
   "cell_type": "code",
   "execution_count": null,
   "id": "65cc5213",
   "metadata": {},
   "outputs": [],
   "source": [
    "import Assignment\n",
    "while True:\n",
    "    print(10*\"=== - asm.ipynb:3\", \":Menu:\", 10*\"===\")\n",
    "    print(\"1. Nhập danh sách nhân viên từ bàn phím. Lưu thông tin nhân viên vào file. - asm.ipynb:4\")\n",
    "    print(\"2. Đọc thông tin nhân viên từ file và xuất danh sách nhân viên. - asm.ipynb:5\")\n",
    "    print(\"3. Tìm và hiển thị nhân viên theo mã nhập từ bàn phím. - asm.ipynb:6\")\n",
    "    print(\"4. Xóa nhân viên theo mã nhập. Cập nhật file dữ liệu. - asm.ipynb:7\")\n",
    "    print(\"5. Cập nhật thông tin nhân viên theo mã nhập và ghi thay đổi vào file. - asm.ipynb:8\")\n",
    "    print(\"6. Tìm các nhân viên theo khoảng lương nhập từ bàn phím. - asm.ipynb:9\")\n",
    "    print(\"7. Sắp xếp nhân viên theo họ và tên. - asm.ipynb:10\")\n",
    "    print(\"8. Sắp xếp nhân viên theo thu nhập. - asm.ipynb:11\")\n",
    "    print(\"9. Xuất 5 nhân viên có thu nhập cao nhất. - asm.ipynb:12\")\n",
    "    print(\"10. Thoát chương trình. - asm.ipynb:13\")\n",
    "    print(10*\"=== - asm.ipynb:14\", \":Menu:\", 10*\"===\")\n",
    "    Lựa_chọn = input(\"Nhập lựa chọn của bạn (1-10): \")\n",
    "    print()\n",
    "    if Lựa_chọn == '1':\n",
    "        Assignment.cn1()\n",
    "    elif Lựa_chọn == '2':\n",
    "        Assignment.cn2()\n",
    "    elif Lựa_chọn == '3':\n",
    "        Assignment.cn3()\n",
    "    elif Lựa_chọn == '4':\n",
    "        Assignment.cn4()\n",
    "    elif Lựa_chọn == '5':\n",
    "        Assignment.cn5()\n",
    "    elif Lựa_chọn == '6':\n",
    "        Assignment.cn6()\n",
    "    elif Lựa_chọn == '7':\n",
    "        Assignment.cn7()\n",
    "    elif Lựa_chọn == '8':\n",
    "        Assignment.cn8()\n",
    "    elif Lựa_chọn == '9':\n",
    "        Assignment.cn9()\n",
    "    elif Lựa_chọn == '10':\n",
    "        Assignment.cn10()\n",
    "        break\n",
    "    else:\n",
    "        print(\"Lựa chọn không hợp lệ. Vui lòng chọn lại. - asm.ipynb:39\")\n",
    "    print()"
   ]
  }
 ],
 "metadata": {
  "language_info": {
   "name": "python"
  }
 },
 "nbformat": 4,
 "nbformat_minor": 5
}
