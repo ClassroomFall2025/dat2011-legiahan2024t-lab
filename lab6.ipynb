{
 "cells": [
  {
   "cell_type": "markdown",
   "id": "fdeff819",
   "metadata": {},
   "source": [
    "# Sinh Viên thực hiện Lab 6 ở Đây"
   ]
  },
  {
   "cell_type": "markdown",
   "id": "acc5d7dc",
   "metadata": {},
   "source": [
    "## Lab 6 - Bài 1"
   ]
  },
  {
   "cell_type": "code",
   "execution_count": 1,
   "id": "001e0507",
   "metadata": {},
   "outputs": [
    {
     "name": "stdout",
     "output_type": "stream",
     "text": [
      "cạnh hình vuông:6 - hinh.py:22\n",
      "chu vi hình vuômg:18 - hinh.py:23\n",
      "diện tích hình vuông:36 - hinh.py:24\n"
     ]
    }
   ],
   "source": [
    "# Code lab 6 bài 1 ở đây\n",
    "from hinh import *\n",
    "\n",
    "cn=ChuNhat (3, 4)\n",
    "v=Vuong(6)\n",
    "v.xuat()"
   ]
  },
  {
   "cell_type": "markdown",
   "id": "c0835310",
   "metadata": {},
   "source": [
    "## Lab 6 - Bài 2"
   ]
  },
  {
   "cell_type": "code",
   "execution_count": 3,
   "id": "fa9cb39f",
   "metadata": {},
   "outputs": [
    {
     "name": "stdout",
     "output_type": "stream",
     "text": [
      "Họ tên: Lê Gia Hân - sinhvien.py:23\n",
      "Ngành: IT - sinhvien.py:24\n",
      "Điểm: 7.25 - sinhvien.py:25\n",
      "Học lực: Khá - sinhvien.py:26\n",
      "\n",
      "Họ tên: Lê Thị Hạnh - sinhvien.py:23\n",
      "Ngành: Biz - sinhvien.py:24\n",
      "Điểm: 7.33 - sinhvien.py:25\n",
      "Học lực: Khá - sinhvien.py:26\n",
      "\n"
     ]
    }
   ],
   "source": [
    "# Code lab 6  bài 2 ở đây\n",
    "from sinhvien import SinhVienIT, SinhVienBiz\n",
    "\n",
    "sv1 = SinhVienIT(\"Lê Gia Hân\", 7, 8, 7)\n",
    "sv2 = SinhVienBiz(\"Lê Thị Hạnh\", 7, 8)\n",
    "\n",
    "sv1.xuat()\n",
    "sv2.xuat()"
   ]
  },
  {
   "cell_type": "markdown",
   "id": "0f2483fe",
   "metadata": {},
   "source": [
    "## Lab 6 - Bài 3"
   ]
  },
  {
   "cell_type": "code",
   "execution_count": null,
   "id": "7034990b",
   "metadata": {},
   "outputs": [],
   "source": [
    "# Code lab 6  bài 3 ở đây"
   ]
  },
  {
   "cell_type": "markdown",
   "id": "d36ea3d3",
   "metadata": {},
   "source": [
    "## Lab 6 - Bài 4"
   ]
  },
  {
   "cell_type": "code",
   "execution_count": 4,
   "id": "4c707ec1",
   "metadata": {},
   "outputs": [
    {
     "name": "stdout",
     "output_type": "stream",
     "text": [
      "\n",
      "===== MENU QUẢN LÝ SINH VIÊN ===== - lab6.ipynb:14\n",
      "1. Nhập danh sách sinh viên - lab6.ipynb:16\n",
      "2. Xuất thông tin danh sách sinh viên - lab6.ipynb:16\n",
      "3. Xuất danh sách sinh viên có học lực giỏi - lab6.ipynb:16\n",
      "4. Sắp xếp danh sách sinh viên theo điểm - lab6.ipynb:16\n",
      "5. Kết thúc - lab6.ipynb:16\n",
      "Đã thêm sinh viên thành công! - sinhvien.py:76\n",
      "Đã thêm sinh viên thành công! - sinhvien.py:76\n",
      "\n",
      "===== MENU QUẢN LÝ SINH VIÊN ===== - lab6.ipynb:14\n",
      "1. Nhập danh sách sinh viên - lab6.ipynb:16\n",
      "2. Xuất thông tin danh sách sinh viên - lab6.ipynb:16\n",
      "3. Xuất danh sách sinh viên có học lực giỏi - lab6.ipynb:16\n",
      "4. Sắp xếp danh sách sinh viên theo điểm - lab6.ipynb:16\n",
      "5. Kết thúc - lab6.ipynb:16\n",
      "\n",
      "=== DANH SÁCH SINH VIÊN === - sinhvien.py:82\n",
      "Họ tên: hân - sinhvien.py:23\n",
      "Ngành: IT - sinhvien.py:24\n",
      "Điểm: 10.00 - sinhvien.py:25\n",
      "Học lực: Xuất sắc - sinhvien.py:26\n",
      "\n",
      "Họ tên: hạnh - sinhvien.py:23\n",
      "Ngành: IT - sinhvien.py:24\n",
      "Điểm: 10.00 - sinhvien.py:25\n",
      "Học lực: Xuất sắc - sinhvien.py:26\n",
      "\n",
      "\n",
      "===== MENU QUẢN LÝ SINH VIÊN ===== - lab6.ipynb:14\n",
      "1. Nhập danh sách sinh viên - lab6.ipynb:16\n",
      "2. Xuất thông tin danh sách sinh viên - lab6.ipynb:16\n",
      "3. Xuất danh sách sinh viên có học lực giỏi - lab6.ipynb:16\n",
      "4. Sắp xếp danh sách sinh viên theo điểm - lab6.ipynb:16\n",
      "5. Kết thúc - lab6.ipynb:16\n",
      "Kết thúc chương trình. - lab6.ipynb:30\n"
     ]
    }
   ],
   "source": [
    "# code lab 6 bài 4 ở đây\n",
    "from sinhvien import QuanLySinhVien\n",
    "ql = QuanLySinhVien()\n",
    "\n",
    "menu = {\n",
    "    \"1\": \"Nhập danh sách sinh viên\",\n",
    "    \"2\": \"Xuất thông tin danh sách sinh viên\",\n",
    "    \"3\": \"Xuất danh sách sinh viên có học lực giỏi\",\n",
    "    \"4\": \"Sắp xếp danh sách sinh viên theo điểm\",\n",
    "    \"5\": \"Kết thúc\"\n",
    "}\n",
    "\n",
    "while True:\n",
    "    print(\"\\n===== MENU QUẢN LÝ SINH VIÊN ===== - lab6.ipynb:14\")\n",
    "    for k, v in menu.items():\n",
    "        print(f\"{k}. {v} - lab6.ipynb:16\")\n",
    "\n",
    "    lua_chon = input(\"Nhập lựa chọn: \")\n",
    "\n",
    "    match lua_chon:\n",
    "        case \"1\":\n",
    "            ql.nhap_sinh_vien()\n",
    "        case \"2\":\n",
    "            ql.xuat_ds()\n",
    "        case \"3\":\n",
    "            ql.xuat_sv_gioi()\n",
    "        case \"4\":\n",
    "            ql.sap_xep_theo_diem()\n",
    "        case \"5\":\n",
    "            print(\"Kết thúc chương trình. - lab6.ipynb:30\")\n",
    "            break\n",
    "        case _:\n",
    "            print(\"Lựa chọn không hợp lệ, vui lòng nhập lại. - lab6.ipynb:33\")\n",
    "            print([sv.TenSinhVien for sv in ql.danh_sach])\n"
   ]
  },
  {
   "cell_type": "markdown",
   "id": "e2b41d4a",
   "metadata": {},
   "source": [
    "## Lab 6 - Bài 5: bài tập làm thêm"
   ]
  },
  {
   "cell_type": "code",
   "execution_count": null,
   "id": "0e0172f7",
   "metadata": {},
   "outputs": [],
   "source": [
    "# code lab 6  bài làm thêm ở đây "
   ]
  }
 ],
 "metadata": {
  "kernelspec": {
   "display_name": "Python 3",
   "language": "python",
   "name": "python3"
  },
  "language_info": {
   "codemirror_mode": {
    "name": "ipython",
    "version": 3
   },
   "file_extension": ".py",
   "mimetype": "text/x-python",
   "name": "python",
   "nbconvert_exporter": "python",
   "pygments_lexer": "ipython3",
   "version": "3.13.7"
  }
 },
 "nbformat": 4,
 "nbformat_minor": 5
}
