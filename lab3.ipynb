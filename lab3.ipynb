{
 "cells": [
  {
   "cell_type": "markdown",
   "id": "fdeff819",
   "metadata": {},
   "source": [
    "# Sinh Viên thực hiện Lab 3 ở Đây"
   ]
  },
  {
   "cell_type": "markdown",
   "id": "acc5d7dc",
   "metadata": {},
   "source": [
    "## Lab 3 - Bài 1"
   ]
  },
  {
   "cell_type": "code",
   "execution_count": 3,
   "id": "001e0507",
   "metadata": {},
   "outputs": [
    {
     "name": "stdout",
     "output_type": "stream",
     "text": [
      "Nhập vào một dãy số nguyên, kết thúc bằng ký tự 'q' - lab3.ipynb:7\n",
      "thoát chương trình - lab3.ipynb:11\n",
      "[1, 2, 3, 4, 5, 6, 7, 8, 9]\n",
      "Dãy số sau khi sắp xếp: - lab3.ipynb:22 [1, 2, 3, 4, 5, 6, 7, 8, 9]\n",
      "Số lớn nhất trong dãy số là: - lab3.ipynb:23 9\n",
      "Số nhỏ nhất trong dãy số là: - lab3.ipynb:24 1\n",
      "Dãy số sau khi sắp xếp giảm dần: - lab3.ipynb:27 [9, 8, 7, 6, 5, 4, 3, 2, 1]\n",
      "Số lớn nhất trong dãy số là: - lab3.ipynb:28 9\n",
      "Số nhỏ nhất trong dãy số là: - lab3.ipynb:29 1\n",
      "9\n",
      "8\n",
      "7\n",
      "6\n",
      "5\n",
      "4\n",
      "3\n",
      "2\n",
      "1\n",
      "Trung bình cộng các số chia hết cho 3 là: - lab3.ipynb:39 18\n",
      "có 3 số chia hết cho 3 - lab3.ipynb:40\n",
      "Trung bình cộng các số chia hết cho 3 là: - lab3.ipynb:42 6.0\n",
      "dãy số chia hết cho 3 là: - lab3.ipynb:43 [9, 6, 3]\n"
     ]
    }
   ],
   "source": [
    "# Code lab 3 bài 1 ở \n",
    "\n",
    "day_so=[]\n",
    "tong=0\n",
    "dem=0\n",
    "day_so_chia3=[]\n",
    "print(\"Nhập vào một dãy số nguyên, kết thúc bằng ký tự 'q' - lab3.ipynb:7\")\n",
    "while True:\n",
    "    so = input(\"Nhập số... \")\n",
    "    if so  == 'q':\n",
    "        print(\"thoát chương trình - lab3.ipynb:11\")\n",
    "        break\n",
    "    else:\n",
    "        try:\n",
    "            phan_tu = int(so)\n",
    "            day_so.append(phan_tu)\n",
    "        except ValueError:\n",
    "            print(\"Giá trị không hợp lệ. Vui lòng nhập đúng số hoặc q để thoát chương trình. - lab3.ipynb:18\")\n",
    "print(day_so)\n",
    "\n",
    "day_so.sort()\n",
    "print(\"Dãy số sau khi sắp xếp: - lab3.ipynb:22\", day_so)\n",
    "print(\"Số lớn nhất trong dãy số là: - lab3.ipynb:23\", day_so[-1])\n",
    "print(\"Số nhỏ nhất trong dãy số là: - lab3.ipynb:24\", day_so[0])\n",
    "# Nhập vào một dãy số nguyên, kết thúc bằng ký tự 'q'\n",
    "day_so.sort(reverse=True)\n",
    "print(\"Dãy số sau khi sắp xếp giảm dần: - lab3.ipynb:27\", day_so)\n",
    "print(\"Số lớn nhất trong dãy số là: - lab3.ipynb:28\", day_so[0])\n",
    "print(\"Số nhỏ nhất trong dãy số là: - lab3.ipynb:29\", day_so[-1])\n",
    "#DUYỆT danh sách\n",
    "for phan_tu in day_so:\n",
    "    print(phan_tu)\n",
    "#Tính tổng các số chia hết cho 3\n",
    "for phan_tu in day_so:\n",
    "    if phan_tu % 3== 0:\n",
    "        tong =tong +phan_tu\n",
    "        dem=dem +1\n",
    "        day_so_chia3.append(phan_tu)\n",
    "print(\"Trung bình cộng các số chia hết cho 3 là: - lab3.ipynb:39\", tong)\n",
    "print(f\"có {dem} số chia hết cho 3 - lab3.ipynb:40\")\n",
    "if dem !=0:\n",
    "    print(\"Trung bình cộng các số chia hết cho 3 là: - lab3.ipynb:42\", tong/dem)\n",
    "    print(\"dãy số chia hết cho 3 là: - lab3.ipynb:43\", day_so_chia3)\n",
    "else:\n",
    "    print(\"Không có số nào chia hết cho 3. - lab3.ipynb:45\")\n",
    "    print(\"dãy số chia hết cho 3 - lab3.ipynb:46\", day_so_chia3)\n",
    "\n",
    "\n",
    "\n",
    "\n",
    "\n",
    "\n"
   ]
  },
  {
   "cell_type": "markdown",
   "id": "c0835310",
   "metadata": {},
   "source": [
    "## Lab 3 - Bài 2"
   ]
  },
  {
   "cell_type": "code",
   "execution_count": 1,
   "id": "fa9cb39f",
   "metadata": {},
   "outputs": [
    {
     "name": "stdout",
     "output_type": "stream",
     "text": [
      "Thông tin sinh viên: - lab3.ipynb:21\n",
      "Họ tên: - lab3.ipynb:22 \n",
      "Điểm: - lab3.ipynb:23 1.0\n",
      "Xếp loại: - lab3.ipynb:24 Yếu\n"
     ]
    }
   ],
   "source": [
    "# Code lab 3  bài 2 ở đây\n",
    "sinh_vien = {}\n",
    "sinh_vien['ho_va_ten'] = input(\"Nhập họ tên sinh viên: \")\n",
    "diem =float(input(\"Nhập điểm sinh viên: \"))\n",
    "sinh_vien['diem'] = diem\n",
    "\n",
    "# xếp loại sinh viên\n",
    "if diem <5:\n",
    "    xep_loai = 'Yếu'\n",
    "elif 5 <= diem < 7:\n",
    "    xep_loai = 'Trung bình'\n",
    "elif 7 <= diem < 8:\n",
    "    xep_loai = 'Khá'\n",
    "elif 8 <= diem < 9:\n",
    "    xep_loai = 'Giỏi'\n",
    "else:\n",
    "    xep_loai = 'Xuất sắc'\n",
    "sinh_vien['xep_loai'] = xep_loai\n",
    "\n",
    "# in ra thông tin sinh viên\n",
    "print(\"Thông tin sinh viên: - lab3.ipynb:21\")\n",
    "print(\"Họ tên: - lab3.ipynb:22\", sinh_vien['ho_va_ten'])\n",
    "print(\"Điểm: - lab3.ipynb:23\", sinh_vien['diem'])\n",
    "print(\"Xếp loại: - lab3.ipynb:24\", sinh_vien['xep_loai'])"
   ]
  },
  {
   "cell_type": "markdown",
   "id": "0f2483fe",
   "metadata": {},
   "source": [
    "## Lab 3 - Bài 3"
   ]
  },
  {
   "cell_type": "code",
   "execution_count": 2,
   "id": "7034990b",
   "metadata": {},
   "outputs": [
    {
     "name": "stdout",
     "output_type": "stream",
     "text": [
      "Thoát chương trình - lab3.ipynb:6\n",
      "Dãy số hiện tại: - lab3.ipynb:15 [1, 2, 3, 4, 5, 6, 7, 8, 9, 0, 21, 1, 2, 3, 2, 4]\n",
      "Dãy số sau khi sắp xếp: - lab3.ipynb:18 [0, 1, 1, 2, 2, 2, 3, 3, 4, 4, 5, 6, 7, 8, 9, 21]\n",
      "Dãy số sau khi sắp xếp ngược: - lab3.ipynb:21 [21, 9, 8, 7, 6, 5, 4, 4, 3, 3, 2, 2, 2, 1, 1, 0]\n",
      "Số lớn nhất trong dãy số là: - lab3.ipynb:25 21\n",
      "Số nhỏ nhất trong dãy số là: - lab3.ipynb:26 0\n",
      "Tổng các số chia hết cho 3 là: 42 - lab3.ipynb:33\n",
      "Trung bình các số chia hết cho 3 là: 7.0 - lab3.ipynb:38\n"
     ]
    }
   ],
   "source": [
    "# Code lab 3  bài 3 ở đây\n",
    "dãy_số = []\n",
    "while True:\n",
    "    số = input('Nhập số: ')\n",
    "    if số == 'e':\n",
    "        print('Thoát chương trình - lab3.ipynb:6')\n",
    "        break\n",
    "    else:\n",
    "        try:\n",
    "            phần_tử = int(số)\n",
    "            dãy_số.append(phần_tử)\n",
    "        except ValueError:\n",
    "            print('Vui lòng nhập lại số hoặc e để thoát - lab3.ipynb:13')\n",
    "            continue\n",
    "print('Dãy số hiện tại: - lab3.ipynb:15', dãy_số)\n",
    "# Dãy số tăng dần\n",
    "dãy_số.sort()\n",
    "print('Dãy số sau khi sắp xếp: - lab3.ipynb:18', dãy_số)\n",
    "# Dãy số giảm dần\n",
    "dãy_số.sort(reverse=True)\n",
    "print('Dãy số sau khi sắp xếp ngược: - lab3.ipynb:21', dãy_số)\n",
    "# Tìm số lớn nhất và nhỏ nhất trong dãy số\n",
    "dãy_số_max = max(dãy_số)\n",
    "dãy_số_min = min(dãy_số)\n",
    "print('Số lớn nhất trong dãy số là: - lab3.ipynb:25', dãy_số_max)\n",
    "print('Số nhỏ nhất trong dãy số là: - lab3.ipynb:26', dãy_số_min)\n",
    "Tổng = 0\n",
    "dem = 0\n",
    "for phần_tử in dãy_số:\n",
    "    if phần_tử % 3 == 0:\n",
    "        Tổng += phần_tử\n",
    "        dem += 1\n",
    "print(f'Tổng các số chia hết cho 3 là: {Tổng} - lab3.ipynb:33')\n",
    "if dem > 0:\n",
    "    kết_quả = Tổng / dem\n",
    "else:\n",
    "    kết_quả = 0\n",
    "print(f'Trung bình các số chia hết cho 3 là: {kết_quả} - lab3.ipynb:38')\n"
   ]
  },
  {
   "cell_type": "markdown",
   "id": "d36ea3d3",
   "metadata": {},
   "source": [
    "## Lab 3 - Bài 4"
   ]
  },
  {
   "cell_type": "code",
   "execution_count": 3,
   "id": "4c707ec1",
   "metadata": {},
   "outputs": [
    {
     "name": "stdout",
     "output_type": "stream",
     "text": [
      "1 x 1 = 1 - lab3.ipynb:5\n",
      "1 x 2 = 2 - lab3.ipynb:5\n",
      "1 x 3 = 3 - lab3.ipynb:5\n",
      "1 x 4 = 4 - lab3.ipynb:5\n",
      "1 x 5 = 5 - lab3.ipynb:5\n",
      "1 x 6 = 6 - lab3.ipynb:5\n",
      "1 x 7 = 7 - lab3.ipynb:5\n",
      "1 x 8 = 8 - lab3.ipynb:5\n",
      "1 x 9 = 9 - lab3.ipynb:5\n",
      "2 x 1 = 2 - lab3.ipynb:5\n",
      "2 x 2 = 4 - lab3.ipynb:5\n",
      "2 x 3 = 6 - lab3.ipynb:5\n",
      "2 x 4 = 8 - lab3.ipynb:5\n",
      "2 x 5 = 10 - lab3.ipynb:5\n",
      "2 x 6 = 12 - lab3.ipynb:5\n",
      "2 x 7 = 14 - lab3.ipynb:5\n",
      "2 x 8 = 16 - lab3.ipynb:5\n",
      "2 x 9 = 18 - lab3.ipynb:5\n",
      "3 x 1 = 3 - lab3.ipynb:5\n",
      "3 x 2 = 6 - lab3.ipynb:5\n",
      "3 x 3 = 9 - lab3.ipynb:5\n",
      "3 x 4 = 12 - lab3.ipynb:5\n",
      "3 x 5 = 15 - lab3.ipynb:5\n",
      "3 x 6 = 18 - lab3.ipynb:5\n",
      "3 x 7 = 21 - lab3.ipynb:5\n",
      "3 x 8 = 24 - lab3.ipynb:5\n",
      "3 x 9 = 27 - lab3.ipynb:5\n",
      "4 x 1 = 4 - lab3.ipynb:5\n",
      "4 x 2 = 8 - lab3.ipynb:5\n",
      "4 x 3 = 12 - lab3.ipynb:5\n",
      "4 x 4 = 16 - lab3.ipynb:5\n",
      "4 x 5 = 20 - lab3.ipynb:5\n",
      "4 x 6 = 24 - lab3.ipynb:5\n",
      "4 x 7 = 28 - lab3.ipynb:5\n",
      "4 x 8 = 32 - lab3.ipynb:5\n",
      "4 x 9 = 36 - lab3.ipynb:5\n",
      "5 x 1 = 5 - lab3.ipynb:5\n",
      "5 x 2 = 10 - lab3.ipynb:5\n",
      "5 x 3 = 15 - lab3.ipynb:5\n",
      "5 x 4 = 20 - lab3.ipynb:5\n",
      "5 x 5 = 25 - lab3.ipynb:5\n",
      "5 x 6 = 30 - lab3.ipynb:5\n",
      "5 x 7 = 35 - lab3.ipynb:5\n",
      "5 x 8 = 40 - lab3.ipynb:5\n",
      "5 x 9 = 45 - lab3.ipynb:5\n",
      "6 x 1 = 6 - lab3.ipynb:5\n",
      "6 x 2 = 12 - lab3.ipynb:5\n",
      "6 x 3 = 18 - lab3.ipynb:5\n",
      "6 x 4 = 24 - lab3.ipynb:5\n",
      "6 x 5 = 30 - lab3.ipynb:5\n",
      "6 x 6 = 36 - lab3.ipynb:5\n",
      "6 x 7 = 42 - lab3.ipynb:5\n",
      "6 x 8 = 48 - lab3.ipynb:5\n",
      "6 x 9 = 54 - lab3.ipynb:5\n",
      "7 x 1 = 7 - lab3.ipynb:5\n",
      "7 x 2 = 14 - lab3.ipynb:5\n",
      "7 x 3 = 21 - lab3.ipynb:5\n",
      "7 x 4 = 28 - lab3.ipynb:5\n",
      "7 x 5 = 35 - lab3.ipynb:5\n",
      "7 x 6 = 42 - lab3.ipynb:5\n",
      "7 x 7 = 49 - lab3.ipynb:5\n",
      "7 x 8 = 56 - lab3.ipynb:5\n",
      "7 x 9 = 63 - lab3.ipynb:5\n",
      "8 x 1 = 8 - lab3.ipynb:5\n",
      "8 x 2 = 16 - lab3.ipynb:5\n",
      "8 x 3 = 24 - lab3.ipynb:5\n",
      "8 x 4 = 32 - lab3.ipynb:5\n",
      "8 x 5 = 40 - lab3.ipynb:5\n",
      "8 x 6 = 48 - lab3.ipynb:5\n",
      "8 x 7 = 56 - lab3.ipynb:5\n",
      "8 x 8 = 64 - lab3.ipynb:5\n",
      "8 x 9 = 72 - lab3.ipynb:5\n",
      "9 x 1 = 9 - lab3.ipynb:5\n",
      "9 x 2 = 18 - lab3.ipynb:5\n",
      "9 x 3 = 27 - lab3.ipynb:5\n",
      "9 x 4 = 36 - lab3.ipynb:5\n",
      "9 x 5 = 45 - lab3.ipynb:5\n",
      "9 x 6 = 54 - lab3.ipynb:5\n",
      "9 x 7 = 63 - lab3.ipynb:5\n",
      "9 x 8 = 72 - lab3.ipynb:5\n",
      "9 x 9 = 81 - lab3.ipynb:5\n"
     ]
    }
   ],
   "source": [
    "# code lab 3 bài 4 ở đây\n",
    "for i in range(1,10):\n",
    "            # Bảng nhân từ 1 đến 9\n",
    "            for j in range(1, 10):\n",
    "                print(f\"{i} x {j} = {i*j} - lab3.ipynb:5\")"
   ]
  },
  {
   "cell_type": "markdown",
   "id": "e2b41d4a",
   "metadata": {},
   "source": [
    "## Lab 3 - Bài 5: bài tập làm thêm"
   ]
  },
  {
   "cell_type": "code",
   "execution_count": 15,
   "id": "0e0172f7",
   "metadata": {},
   "outputs": [
    {
     "name": "stdout",
     "output_type": "stream",
     "text": [
      "Menu: - lab3.ipynb:2\n",
      "Luy thua: Tinh x^y - lab3.ipynb:11\n",
      "Menu: - lab3.ipynb:2\n",
      "Can bac hai: Tinh √x - lab3.ipynb:13\n",
      "Menu: - lab3.ipynb:2\n",
      "Ham luong giac: Sin, cos, tan - lab3.ipynb:15\n",
      "Menu: - lab3.ipynb:2\n",
      "Logarit: Log co so 10, ln, log co so tuy chon - lab3.ipynb:17\n",
      "Menu: - lab3.ipynb:2\n",
      "Giai phuong trinh bac 2 - lab3.ipynb:19\n",
      "Menu: - lab3.ipynb:2\n",
      "Lich su: Luu va xem lai cac phep tinh da thuc hien - lab3.ipynb:21\n",
      "Menu: - lab3.ipynb:2\n",
      "Thoi gian: Hien thi thoi gian hien tai - lab3.ipynb:23\n",
      "Menu: - lab3.ipynb:2\n",
      "thoát chương trình - lab3.ipynb:6\n"
     ]
    }
   ],
   "source": [
    "while True:\n",
    "   print(\"Menu: - lab3.ipynb:2\")\n",
    "   lưa_chon = input(\"nhap lua chon cua ban\")\n",
    "   match lưa_chon:\n",
    "        case '0':\n",
    "            print(\"thoát chương trình - lab3.ipynb:6\")\n",
    "            break\n",
    "        case '1':\n",
    "            print(\"Phep tinh co ban: Cong, tru, nhan, chia - lab3.ipynb:9\")\n",
    "        case '2':\n",
    "            print(\"Luy thua: Tinh x^y - lab3.ipynb:11\")\n",
    "        case '3':\n",
    "            print(\"Can bac hai: Tinh √x - lab3.ipynb:13\")\n",
    "        case '4':\n",
    "            print(\"Ham luong giac: Sin, cos, tan - lab3.ipynb:15\")\n",
    "        case '5':\n",
    "            print(\"Logarit: Log co so 10, ln, log co so tuy chon - lab3.ipynb:17\")\n",
    "        case '6':\n",
    "            print(\"Giai phuong trinh bac 2 - lab3.ipynb:19\")\n",
    "        case '7':\n",
    "            print(\"Lich su: Luu va xem lai cac phep tinh da thuc hien - lab3.ipynb:21\")\n",
    "        case '8':\n",
    "            print(\"Thoi gian: Hien thi thoi gian hien tai - lab3.ipynb:23\")\n",
    "        case '9':\n",
    "            print(\"Giao dien than thien: Menu de su dung bang tieng Viet - lab3.ipynb:25\")\n",
    "        case _:\n",
    "            print(\"Lựa chọn không hợp lệ, vui lòng chọn lại - lab3.ipynb:27\")\n"
   ]
  }
 ],
 "metadata": {
  "kernelspec": {
   "display_name": "Python 3",
   "language": "python",
   "name": "python3"
  },
  "language_info": {
   "codemirror_mode": {
    "name": "ipython",
    "version": 3
   },
   "file_extension": ".py",
   "mimetype": "text/x-python",
   "name": "python",
   "nbconvert_exporter": "python",
   "pygments_lexer": "ipython3",
   "version": "3.13.7"
  }
 },
 "nbformat": 4,
 "nbformat_minor": 5
}
