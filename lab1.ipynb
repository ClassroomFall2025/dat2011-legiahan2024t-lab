{
 "cells": [
  {
   "cell_type": "markdown",
   "id": "fdeff819",
   "metadata": {},
   "source": [
    "# Sinh Viên thực hiện Lab 1 ở Đây"
   ]
  },
  {
   "cell_type": "markdown",
   "id": "acc5d7dc",
   "metadata": {},
   "source": [
    "## Lab 1 - Bài 1"
   ]
  },
  {
   "cell_type": "code",
   "execution_count": 1,
   "id": "001e0507",
   "metadata": {},
   "outputs": [
    {
     "name": "stdout",
     "output_type": "stream",
     "text": [
      "legiahan - lab1.ipynb:2\n",
      "mssv ps45332 - lab1.ipynb:3\n",
      "lớp DP20301 - lab1.ipynb:4\n",
      "tuổi 19 - lab1.ipynb:5\n",
      "địa chỉ ấp chánh xã long hiệp huyện bến lức tỉnh long an - lab1.ipynb:6\n"
     ]
    }
   ],
   "source": [
    "# Code lab 1 bài 1 ở đây\n",
    "print(\"legiahan - lab1.ipynb:2\") \n",
    "print(\"mssv ps45332 - lab1.ipynb:3\")\n",
    "print(\"lớp DP20301 - lab1.ipynb:4\" )\n",
    "print(\"tuổi 19 - lab1.ipynb:5\")\n",
    "print(\"địa chỉ ấp chánh xã long hiệp huyện bến lức tỉnh long an - lab1.ipynb:6\")\n",
    "\n",
    "\n"
   ]
  },
  {
   "cell_type": "markdown",
   "id": "c0835310",
   "metadata": {},
   "source": [
    "## Lab 1 - Bài 2"
   ]
  },
  {
   "cell_type": "code",
   "execution_count": 2,
   "id": "fa9cb39f",
   "metadata": {},
   "outputs": [
    {
     "name": "stdout",
     "output_type": "stream",
     "text": [
      "chu vi hình chữ nhật là: - lab1.ipynb:6 20.0\n",
      "diện tích hình chữ nhật là: - lab1.ipynb:7 24.0\n"
     ]
    }
   ],
   "source": [
    "# code lab 1 bài 2 ở đây\n",
    "dai = float(input(\"nhập chiều dài hình chữ nhật:\"))\n",
    "rong = float(input(\"nhập chiều rộng hình chữ nhật:\"))\n",
    "Chuvi = (dai+rong)*2\n",
    "Dientich = dai*rong\n",
    "print(\"chu vi hình chữ nhật là: - lab1.ipynb:6\", Chuvi)\n",
    "print(\"diện tích hình chữ nhật là: - lab1.ipynb:7\", Dientich)"
   ]
  },
  {
   "cell_type": "markdown",
   "id": "0f2483fe",
   "metadata": {},
   "source": [
    "## Lab 1 - Bài 3"
   ]
  },
  {
   "cell_type": "code",
   "execution_count": 3,
   "id": "7034990b",
   "metadata": {},
   "outputs": [
    {
     "name": "stdout",
     "output_type": "stream",
     "text": [
      "phương trình vô nghiệm - lab1.ipynb:8\n"
     ]
    }
   ],
   "source": [
    "# Code lab 1  bài 3 ở đây\n",
    "import math\n",
    "a = float(input(\"nhập hệ số a:\"))\n",
    "b = float(input(\"nhập hệ số b:\"))\n",
    "c = float(input(\"nhập hệ số c:\"))\n",
    "d = b**2 - 4*a*c\n",
    "if d < 0:\n",
    "    print(\"phương trình vô nghiệm - lab1.ipynb:8\")\n",
    "elif d == 0:\n",
    "    x = -b/(2*a)\n",
    "    print(\"phương trình có nghiệm kép x1 = x2 = - lab1.ipynb:11\", x)\n",
    "else:\n",
    "    x1 = (-b + math.sqrt(d)) / (2*a)\n",
    "    x2 = (-b - math.sqrt(d)) / (2*a)\n",
    "    print(\"phương trình có 2 nghiệm phân biệt x1 = - lab1.ipynb:15\", x1, \", x2 =\", x2)\n"
   ]
  },
  {
   "cell_type": "markdown",
   "id": "d36ea3d3",
   "metadata": {},
   "source": [
    "## Lab 1 - Bài 4"
   ]
  },
  {
   "cell_type": "code",
   "execution_count": 4,
   "id": "4c707ec1",
   "metadata": {},
   "outputs": [
    {
     "name": "stdout",
     "output_type": "stream",
     "text": [
      "... - lab1.ipynb:2\n",
      "Sống khôngông giận,không hờn không oán trách - lab1.ipynb:4\n",
      "Sống mỉm cười, với thử thách chông gai - lab1.ipynb:5\n",
      "Sống vươn lên,theo kịp ánh ban maimai - lab1.ipynb:6\n",
      "Sống chan hòa, với những người chung sống. - lab1.ipynb:7\n",
      "\n",
      "Sống là động, nhưng lòng luôn bất độngđộng - lab1.ipynb:9\n",
      "Sống là thương, nhưng lòng chẳn vấn vương - lab1.ipynb:10\n",
      "Sống yên vui, danh lợi mãi coi thườngthường - lab1.ipynb:11\n",
      "Tâm bất biến, giữa dòng đời vạn biển. - lab1.ipynb:12\n",
      "... - lab1.ipynb:13\n"
     ]
    }
   ],
   "source": [
    "# code lab 1 bài 4 ở đây\n",
    "print(\"... - lab1.ipynb:2\" \\\n",
    "\"\")\n",
    "print(\"Sống khôngông giận,không hờn không oán trách - lab1.ipynb:4\")\n",
    "print(\"Sống mỉm cười, với thử thách chông gai - lab1.ipynb:5\")\n",
    "print(\"Sống vươn lên,theo kịp ánh ban maimai - lab1.ipynb:6\")\n",
    "print(\"Sống chan hòa, với những người chung sống. - lab1.ipynb:7\")\n",
    "print()\n",
    "print(\"Sống là động, nhưng lòng luôn bất độngđộng - lab1.ipynb:9\")\n",
    "print(\"Sống là thương, nhưng lòng chẳn vấn vương - lab1.ipynb:10\")\n",
    "print(\"Sống yên vui, danh lợi mãi coi thườngthường - lab1.ipynb:11\")\n",
    "print(\"Tâm bất biến, giữa dòng đời vạn biển. - lab1.ipynb:12\")\n",
    "print(\"... - lab1.ipynb:13\" \\\n",
    "\"\")"
   ]
  },
  {
   "cell_type": "markdown",
   "id": "e2b41d4a",
   "metadata": {},
   "source": [
    "## Lab 1 - Bài 5: bài tập làm thêm"
   ]
  },
  {
   "cell_type": "code",
   "execution_count": null,
   "id": "0e0172f7",
   "metadata": {},
   "outputs": [],
   "source": [
    "# code lab 1  bài làm thêm ở đây "
   ]
  }
 ],
 "metadata": {
  "kernelspec": {
   "display_name": "Python 3",
   "language": "python",
   "name": "python3"
  },
  "language_info": {
   "codemirror_mode": {
    "name": "ipython",
    "version": 3
   },
   "file_extension": ".py",
   "mimetype": "text/x-python",
   "name": "python",
   "nbconvert_exporter": "python",
   "pygments_lexer": "ipython3",
   "version": "3.13.7"
  }
 },
 "nbformat": 4,
 "nbformat_minor": 5
}
