{
 "cells": [
  {
   "cell_type": "markdown",
   "id": "fdeff819",
   "metadata": {},
   "source": [
    "# Sinh Viên thực hiện Lab 7 ở Đây"
   ]
  },
  {
   "cell_type": "markdown",
   "id": "acc5d7dc",
   "metadata": {},
   "source": [
    "## Lab 7 - Bài 1"
   ]
  },
  {
   "cell_type": "code",
   "execution_count": null,
   "id": "001e0507",
   "metadata": {},
   "outputs": [
    {
     "ename": "IndentationError",
     "evalue": "unexpected indent (198937381.py, line 4)",
     "output_type": "error",
     "traceback": [
      "  \u001b[36mCell\u001b[39m\u001b[36m \u001b[39m\u001b[32mIn[6]\u001b[39m\u001b[32m, line 4\u001b[39m\n\u001b[31m    \u001b[39m\u001b[31mwith open(\"Resource.txt\", \"r\", encoding=\"utf-8\") as file:\u001b[39m\n    ^\n\u001b[31mIndentationError\u001b[39m\u001b[31m:\u001b[39m unexpected indent\n"
     ]
    }
   ],
   "source": [
    "# Code lab 7 bài 1 ở đây\n",
    "\n",
    "# Đọc toàn bộ nội dung của file \n",
    " with open(\"Resource.txt\", \"r\", encoding=\"utf-8\") as file:\n",
    "    noidung = file.read()\n",
    "    print(noidung)\n",
    "    print(\"\"*40)\n",
    "\n",
    "# Đọc và xuất ra màn hình tên bài thơ (9 ký tự đầu tiên)\n",
    " with open(\"Resource.txt\", \"r\", encoding=\"utf-8\") as file:\n",
    "    noidung = file.readline(9)\n",
    "    print(noidung)\n",
    "    print(\"\"*40)\n",
    "# Đọc và xuất ra màn hình tên tác giả (dòng thứ hai)\n",
    " with open(\"Resource.txt\", \"r\", encoding=\"utf-8\") as file:\n",
    "    file.readline()\n",
    "    noidung = file.readline(17)\n",
    "    print(noidung)\n"
   ]
  },
  {
   "cell_type": "markdown",
   "id": "c0835310",
   "metadata": {},
   "source": [
    "## Lab 7 - Bài 2"
   ]
  },
  {
   "cell_type": "code",
   "execution_count": 3,
   "id": "fa9cb39f",
   "metadata": {},
   "outputs": [],
   "source": [
    "# Code lab 7  bài 2 ở đây\n",
    "# Tạo 1 file mới, đặt tên file là Lab7-Exercise2.txt. Ghi nội dung sau vào file:\n",
    "#with open(\"Lab7-Exercise2.txt\", \"x\", encoding=\"utf-8\") as file:#  code tạo file Lab7-Exercise2.txt\n",
    "with open(\"Lab7-Exercise2.txt\", \"w\", encoding=\"utf-8\") as file: # ghi thông tin bài thơ vào file vừa tạo\n",
    "        file.write('''\"...\n",
    "                Nếu một mai tôi có bay lên trời\n",
    "                Thì người ơi tôi đã sống rất thảnh thơi\n",
    "                Nếu một mai tôi có đi qua đời\n",
    "                Thì người ơi tôi đã sống rất tuyệt vời\n",
    "                ...\"''')\n"
   ]
  },
  {
   "cell_type": "markdown",
   "id": "0f2483fe",
   "metadata": {},
   "source": [
    "## Lab 7 - Bài 3"
   ]
  },
  {
   "cell_type": "code",
   "execution_count": null,
   "id": "7034990b",
   "metadata": {},
   "outputs": [
    {
     "name": "stdout",
     "output_type": "stream",
     "text": [
      "Nhập thông tin 5 bài thơ 1 - lab7.ipynb:11\n",
      "\n",
      "Nhập thông tin 5 bài thơ 2 - lab7.ipynb:11\n",
      "\n",
      "Nhập thông tin 5 bài thơ 3 - lab7.ipynb:11\n",
      "\n",
      "Nhập thông tin 5 bài thơ 4 - lab7.ipynb:11\n",
      "\n",
      "Nhập thông tin 5 bài thơ 5 - lab7.ipynb:11\n",
      "\n"
     ]
    }
   ],
   "source": [
    "# Code lab 7  bài 3 ở đây\n",
    "# Viết chương trình để nhập thông tin của 5 bài thơ từ bàn phím và ghi vào file theo định dạng csv. Thông tin của bài hát bao gồm: tiêu đề, tác giả và năm sáng tác.\n",
    "import csv\n",
    "file_name = \"lab7-5baitho.csv\"\n",
    "# code ghi đè vào file csv\n",
    "with open(file_name, \"w\", encoding=\"utf-8\") as file:\n",
    "    writer = csv.writer(file)\n",
    "    writer.writerow([\"Tiêu đề\", \"Tác giả\", \"Năm sáng tác\"])\n",
    "    #code nhập thông tin 5 bài thơ\n",
    "    for i in range(1, 6):\n",
    "        print(f\"Nhập thông tin 5 bài thơ {i} - lab7.ipynb:11\")\n",
    "        tieu_de = input(\"Tiều đề: \")\n",
    "        tac_gia = input(\"Tác giả: \")\n",
    "        nam_sang_tac = input(\"Năm sáng tác: \")\n",
    "        print(\"\"*30)\n",
    "        writer.writerow([tieu_de, tac_gia, nam_sang_tac])\n",
    "\n",
    "\n",
    "        "
   ]
  },
  {
   "cell_type": "markdown",
   "id": "d36ea3d3",
   "metadata": {},
   "source": [
    "## Lab 7 - Bài 4"
   ]
  },
  {
   "cell_type": "code",
   "execution_count": 5,
   "id": "4c707ec1",
   "metadata": {},
   "outputs": [
    {
     "ename": "FileNotFoundError",
     "evalue": "[Errno 2] No such file or directory: 'Resource.txt'",
     "output_type": "error",
     "traceback": [
      "\u001b[31m---------------------------------------------------------------------------\u001b[39m",
      "\u001b[31mFileNotFoundError\u001b[39m                         Traceback (most recent call last)",
      "\u001b[36mCell\u001b[39m\u001b[36m \u001b[39m\u001b[32mIn[5]\u001b[39m\u001b[32m, line 3\u001b[39m\n\u001b[32m      1\u001b[39m \u001b[38;5;66;03m# code lab 7 bài 4 ở đây\u001b[39;00m\n\u001b[32m      2\u001b[39m \u001b[38;5;66;03m# Đọc toàn bộ nội dung\u001b[39;00m\n\u001b[32m----> \u001b[39m\u001b[32m3\u001b[39m \u001b[38;5;28;01mwith\u001b[39;00m \u001b[38;5;28;43mopen\u001b[39;49m\u001b[43m(\u001b[49m\u001b[33;43m\"\u001b[39;49m\u001b[33;43mResource.txt\u001b[39;49m\u001b[33;43m\"\u001b[39;49m\u001b[43m,\u001b[49m\u001b[43m \u001b[49m\u001b[33;43m\"\u001b[39;49m\u001b[33;43mr\u001b[39;49m\u001b[33;43m\"\u001b[39;49m\u001b[43m,\u001b[49m\u001b[43m \u001b[49m\u001b[43mencoding\u001b[49m\u001b[43m=\u001b[49m\u001b[33;43m\"\u001b[39;49m\u001b[33;43mutf-8\u001b[39;49m\u001b[33;43m\"\u001b[39;49m\u001b[43m)\u001b[49m \u001b[38;5;28;01mas\u001b[39;00m file:\n\u001b[32m      4\u001b[39m     noi_dung = [dong.strip() \u001b[38;5;28;01mfor\u001b[39;00m dong \u001b[38;5;129;01min\u001b[39;00m file.readlines()]\n\u001b[32m      5\u001b[39m     \u001b[38;5;28mprint\u001b[39m(noi_dung)\n",
      "\u001b[36mFile \u001b[39m\u001b[32m~\\AppData\\Roaming\\Python\\Python313\\site-packages\\IPython\\core\\interactiveshell.py:343\u001b[39m, in \u001b[36m_modified_open\u001b[39m\u001b[34m(file, *args, **kwargs)\u001b[39m\n\u001b[32m    336\u001b[39m \u001b[38;5;28;01mif\u001b[39;00m file \u001b[38;5;129;01min\u001b[39;00m {\u001b[32m0\u001b[39m, \u001b[32m1\u001b[39m, \u001b[32m2\u001b[39m}:\n\u001b[32m    337\u001b[39m     \u001b[38;5;28;01mraise\u001b[39;00m \u001b[38;5;167;01mValueError\u001b[39;00m(\n\u001b[32m    338\u001b[39m         \u001b[33mf\u001b[39m\u001b[33m\"\u001b[39m\u001b[33mIPython won\u001b[39m\u001b[33m'\u001b[39m\u001b[33mt let you open fd=\u001b[39m\u001b[38;5;132;01m{\u001b[39;00mfile\u001b[38;5;132;01m}\u001b[39;00m\u001b[33m by default \u001b[39m\u001b[33m\"\u001b[39m\n\u001b[32m    339\u001b[39m         \u001b[33m\"\u001b[39m\u001b[33mas it is likely to crash IPython. If you know what you are doing, \u001b[39m\u001b[33m\"\u001b[39m\n\u001b[32m    340\u001b[39m         \u001b[33m\"\u001b[39m\u001b[33myou can use builtins\u001b[39m\u001b[33m'\u001b[39m\u001b[33m open.\u001b[39m\u001b[33m\"\u001b[39m\n\u001b[32m    341\u001b[39m     )\n\u001b[32m--> \u001b[39m\u001b[32m343\u001b[39m \u001b[38;5;28;01mreturn\u001b[39;00m \u001b[43mio_open\u001b[49m\u001b[43m(\u001b[49m\u001b[43mfile\u001b[49m\u001b[43m,\u001b[49m\u001b[43m \u001b[49m\u001b[43m*\u001b[49m\u001b[43margs\u001b[49m\u001b[43m,\u001b[49m\u001b[43m \u001b[49m\u001b[43m*\u001b[49m\u001b[43m*\u001b[49m\u001b[43mkwargs\u001b[49m\u001b[43m)\u001b[49m\n",
      "\u001b[31mFileNotFoundError\u001b[39m: [Errno 2] No such file or directory: 'Resource.txt'"
     ]
    }
   ],
   "source": [
    "# code lab 7 bài 4 ở đây\n",
    "# Đọc toàn bộ nội dung\n",
    "with open(\"Resource.txt\", \"r\", encoding=\"utf-8\") as file:\n",
    "    noi_dung = [dong.strip() for dong in file.readlines()]\n",
    "    print(noi_dung)\n",
    "    name = noi_dung[0]\n",
    "    author = noi_dung[1]\n",
    "    noi_dung_moi = []\n",
    "    kho_tho = []\n",
    "    for dong in noi_dung[2:]:\n",
    "        if dong == \"\":\n",
    "            noi_dung_moi.append(kho_tho)\n",
    "            kho_tho = []\n",
    "        else:\n",
    "            kho_tho.append(dong)\n",
    "    noi_dung_moi.append(kho_tho)\n",
    "# ghi vào file theo định dạng xml\n",
    "file_name = \"ResourceXML.xml\"\n",
    "with open(file_name, \"w\", encoding=\"utf-8\") as xml_file:\n",
    "    xml_file.write(\"<songs>\\n\")\n",
    "    xml_file.write(\"\\t<songs>\\n\")\n",
    "    xml_file.write(f\"\\t\\t<name>{noi_dung[0]}</name>\\n\")\n",
    "    xml_file.write(f\"\\t\\t<author>{noi_dung[1]}</author>\\n\")\n",
    "    for phan_tu in noi_dung_moi:\n",
    "        xml_file.write(f\"\\t\\t<section>\")\n",
    "        xml_file.write(f\"\\t\\t{phan_tu}\")\n",
    "        xml_file.write(f\"\\t\\t<section>\\n\")\n",
    "    xml_file.write(\"\\t</songs>\\n\")\n",
    "    xml_file.write(\"</songs>\\n\")"
   ]
  },
  {
   "cell_type": "markdown",
   "id": "e2b41d4a",
   "metadata": {},
   "source": [
    "## Lab 7 - Bài 5: bài tập làm thêm"
   ]
  },
  {
   "cell_type": "code",
   "execution_count": 3,
   "id": "0e0172f7",
   "metadata": {},
   "outputs": [
    {
     "ename": "FileNotFoundError",
     "evalue": "[Errno 2] No such file or directory: 'DAT2011 - Lab 7 - Resource'",
     "output_type": "error",
     "traceback": [
      "\u001b[31m---------------------------------------------------------------------------\u001b[39m",
      "\u001b[31mFileNotFoundError\u001b[39m                         Traceback (most recent call last)",
      "\u001b[36mCell\u001b[39m\u001b[36m \u001b[39m\u001b[32mIn[3]\u001b[39m\u001b[32m, line 2\u001b[39m\n\u001b[32m      1\u001b[39m \u001b[38;5;66;03m# code lab 7  bài làm thêm ở đây \u001b[39;00m\n\u001b[32m----> \u001b[39m\u001b[32m2\u001b[39m \u001b[38;5;28;01mwith\u001b[39;00m \u001b[38;5;28;43mopen\u001b[39;49m\u001b[43m \u001b[49m\u001b[43m(\u001b[49m\u001b[33;43m\"\u001b[39;49m\u001b[33;43mDAT2011 - Lab 7 - Resource\u001b[39;49m\u001b[33;43m\"\u001b[39;49m\u001b[43m,\u001b[49m\u001b[43m \u001b[49m\u001b[43mencoding\u001b[49m\u001b[43m=\u001b[49m\u001b[33;43m\"\u001b[39;49m\u001b[33;43mutf-8\u001b[39;49m\u001b[33;43m\"\u001b[39;49m\u001b[43m)\u001b[49m \u001b[38;5;28;01mas\u001b[39;00m file :\n\u001b[32m      3\u001b[39m  noi_dung = [dong.strip()\u001b[38;5;28;01mfor\u001b[39;00m dong \u001b[38;5;129;01min\u001b[39;00m file.readlines()]\n\u001b[32m      4\u001b[39m \u001b[38;5;28mprint\u001b[39m(noi_dung)\n",
      "\u001b[36mFile \u001b[39m\u001b[32m~\\AppData\\Roaming\\Python\\Python313\\site-packages\\IPython\\core\\interactiveshell.py:343\u001b[39m, in \u001b[36m_modified_open\u001b[39m\u001b[34m(file, *args, **kwargs)\u001b[39m\n\u001b[32m    336\u001b[39m \u001b[38;5;28;01mif\u001b[39;00m file \u001b[38;5;129;01min\u001b[39;00m {\u001b[32m0\u001b[39m, \u001b[32m1\u001b[39m, \u001b[32m2\u001b[39m}:\n\u001b[32m    337\u001b[39m     \u001b[38;5;28;01mraise\u001b[39;00m \u001b[38;5;167;01mValueError\u001b[39;00m(\n\u001b[32m    338\u001b[39m         \u001b[33mf\u001b[39m\u001b[33m\"\u001b[39m\u001b[33mIPython won\u001b[39m\u001b[33m'\u001b[39m\u001b[33mt let you open fd=\u001b[39m\u001b[38;5;132;01m{\u001b[39;00mfile\u001b[38;5;132;01m}\u001b[39;00m\u001b[33m by default \u001b[39m\u001b[33m\"\u001b[39m\n\u001b[32m    339\u001b[39m         \u001b[33m\"\u001b[39m\u001b[33mas it is likely to crash IPython. If you know what you are doing, \u001b[39m\u001b[33m\"\u001b[39m\n\u001b[32m    340\u001b[39m         \u001b[33m\"\u001b[39m\u001b[33myou can use builtins\u001b[39m\u001b[33m'\u001b[39m\u001b[33m open.\u001b[39m\u001b[33m\"\u001b[39m\n\u001b[32m    341\u001b[39m     )\n\u001b[32m--> \u001b[39m\u001b[32m343\u001b[39m \u001b[38;5;28;01mreturn\u001b[39;00m \u001b[43mio_open\u001b[49m\u001b[43m(\u001b[49m\u001b[43mfile\u001b[49m\u001b[43m,\u001b[49m\u001b[43m \u001b[49m\u001b[43m*\u001b[49m\u001b[43margs\u001b[49m\u001b[43m,\u001b[49m\u001b[43m \u001b[49m\u001b[43m*\u001b[49m\u001b[43m*\u001b[49m\u001b[43mkwargs\u001b[49m\u001b[43m)\u001b[49m\n",
      "\u001b[31mFileNotFoundError\u001b[39m: [Errno 2] No such file or directory: 'DAT2011 - Lab 7 - Resource'"
     ]
    }
   ],
   "source": [
    "# code lab 7  bài làm thêm ở đây \n",
    "with open (\"DAT2011 - Lab 7 - Resource\", encoding=\"utf-8\") as file :\n",
    " noi_dung = [dong.strip()for dong in file.readlines()]\n",
    "print(noi_dung)\n",
    "noi_dung_moi = []\n",
    "kho_tho = []\n",
    "for dong in noi_dung[2:]:\n",
    "        if dong == \"\":\n",
    "            noi_dung_moi.append(kho_tho)\n",
    "            kho_tho = []\n",
    "        else:\n",
    "            kho_tho.append(dong)\n",
    "noi_dung_moi.append(kho_tho)\n",
    "print(noi_dung_moi)\n",
    "with open(\"DAT2011 - Lab 7 - Resource\", encoding=\"utf-8\") as file :\n",
    "    noi_dung = [dong.strip() for dong in file.readlines()]\n",
    "    print(noi_dung)\n",
    "\n",
    "    with open (\"DAT2011 - Lab 7 - Resource\", \"w\", encoding=\"utf-8\") as file1:\n",
    "        file1.write(\"<songs>\")\n",
    "        file1.write(\"\\t<song>\")\n",
    "        file1.write(\"\\t\\t<name>\"+ noi_dung[0] + \"</name>\")\n",
    "        file1.write(\"\\t\\t<author>{noi_dung[1]}</author>\")\n",
    "\n",
    "        filter.write(\"\\t</song>\")\n",
    "        file1.write(\"</songs>\") \n",
    "\n",
    "\n"
   ]
  }
 ],
 "metadata": {
  "kernelspec": {
   "display_name": "Python 3",
   "language": "python",
   "name": "python3"
  },
  "language_info": {
   "codemirror_mode": {
    "name": "ipython",
    "version": 3
   },
   "file_extension": ".py",
   "mimetype": "text/x-python",
   "name": "python",
   "nbconvert_exporter": "python",
   "pygments_lexer": "ipython3",
   "version": "3.13.7"
  }
 },
 "nbformat": 4,
 "nbformat_minor": 5
}
