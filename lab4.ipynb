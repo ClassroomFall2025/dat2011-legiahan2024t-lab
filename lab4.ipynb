{
 "cells": [
  {
   "cell_type": "markdown",
   "id": "fdeff819",
   "metadata": {},
   "source": [
    "# Sinh Viên thực hiện Lab 4 ở Đây"
   ]
  },
  {
   "cell_type": "markdown",
   "id": "acc5d7dc",
   "metadata": {},
   "source": [
    "## Lab 1 - Bài 1"
   ]
  },
  {
   "cell_type": "code",
   "execution_count": 1,
   "id": "001e0507",
   "metadata": {},
   "outputs": [
    {
     "name": "stdout",
     "output_type": "stream",
     "text": [
      "Chương trình tính tiền nước sinh hoạt - lab4.ipynb:13\n",
      "Số tiền nước phải trả trong tháng là: 7500.0 đồng - lab4.ipynb:16\n"
     ]
    }
   ],
   "source": [
    "# Code lab 4 bài 1 ở đây\n",
    "def timh_tien_nuoc(so_nuoc):\n",
    "    gia_ban_nuoc = (7500, 8000, 12000, 24000)\n",
    "    if so_nuoc <= 10 and so_nuoc > 0:\n",
    "        tien_nuoc_thang = so_nuoc * gia_ban_nuoc[0]\n",
    "    elif so_nuoc <= 20:\n",
    "        tien_nuoc_thang = 10 * gia_ban_nuoc[0] + (so_nuoc - 10) * gia_ban_nuoc[1]\n",
    "    elif so_nuoc <= 30:\n",
    "        tien_nuoc_thang = 10 * gia_ban_nuoc[0] + 10 * gia_ban_nuoc[1] + (so_nuoc - 20) * gia_ban_nuoc[2]\n",
    "    else:\n",
    "        tien_nuoc_thang = 10 * gia_ban_nuoc[0] + 10 * gia_ban_nuoc[1] + 10 * gia_ban_nuoc[2] + (so_nuoc - 30) * gia_ban_nuoc[3]\n",
    "    return tien_nuoc_thang\n",
    "print(\"Chương trình tính tiền nước sinh hoạt - lab4.ipynb:13\")\n",
    "so_nuoc = float(input(\"Nhập số nước tiêu thụ trong tháng (m3): \"))\n",
    "tien_nuoc = timh_tien_nuoc(so_nuoc)\n",
    "print(f\"Số tiền nước phải trả trong tháng là: {tien_nuoc} đồng - lab4.ipynb:16\")"
   ]
  },
  {
   "cell_type": "markdown",
   "id": "c0835310",
   "metadata": {},
   "source": [
    "## Lab 4 - Bài 2"
   ]
  },
  {
   "cell_type": "code",
   "execution_count": null,
   "id": "fa9cb39f",
   "metadata": {},
   "outputs": [],
   "source": [
    "# Code lab 4  bài 2 ở đây\n",
    "def tinh_nguyen_lieu(s1_bdx, s2_btc, s3_bd):\n",
    "    banh_dau_xanh = {\"đường\": 0.04, \"đậu\":0.07}\n",
    "    banh_thap_cam = {\"đường\": 0.06 , \"đậu\":0}\n",
    "    banh_dẻo ={\"đường\": 0.05, \"đậu\":0.02}\n",
    "    duong_lam_banh = s1_bdx * banh_dau_xanh[\"đường\"] + s2_btc * banh_thap_cam[\"đường\"] + s3_bd * banh_dẻo[\"đường\"]\n",
    "    dau_lam_banh = s1_bdx * banh_dau_xanh[\"đậu\"] + s2_btc * banh_thap_cam[\"đậu\"] + s3_bd * banh_dẻo[\"đậu\"]\n",
    "    return duong_lam_banh, dau_lam_banh"
   ]
  },
  {
   "cell_type": "markdown",
   "id": "0f2483fe",
   "metadata": {},
   "source": [
    "## Lab 4 - Bài 3"
   ]
  },
  {
   "cell_type": "code",
   "execution_count": null,
   "id": "7034990b",
   "metadata": {},
   "outputs": [],
   "source": [
    "# Code lab 4  bài 3 ở đây\n",
    "try:\n",
    "    # Nhập dãy số nguyên từ bàn phím\n",
    "    nhap = input(\"Nhập dãy số nguyên (cách nhau bằng khoảng trắng): \")\n",
    "\n",
    "    # Chuyển thành danh sách số nguyên\n",
    "    my_list = [int(x) for x in nhap.split()]\n",
    "\n",
    "    # Sử dụng hàm filter và lambda để lọc số chẵn\n",
    "    new_list = list(filter(lambda x: (x % 2 == 0), my_list))\n",
    "\n",
    "    # Xuất kết quả ra màn hình\n",
    "    print(\"Các số chẵn trong dãy là: - lab4.ipynb:13\", new_list)\n",
    "\n",
    "except ValueError:\n",
    "    # Thông báo lỗi nếu nhập không phải số nguyên\n",
    "    print(\"Lỗi: Bạn phải nhập vào toàn số nguyên! - lab4.ipynb:17\")"
   ]
  },
  {
   "cell_type": "markdown",
   "id": "d36ea3d3",
   "metadata": {},
   "source": [
    "## Lab 4 - Bài 4"
   ]
  },
  {
   "cell_type": "code",
   "execution_count": 2,
   "id": "4c707ec1",
   "metadata": {},
   "outputs": [],
   "source": [
    "# code lab 4 bài 4 ở đây\n",
    "menu = \"\"\"\n",
    "1. Tính tiền nước\n",
    "2. Tính nguyên liệu làm bánh\n",
    "3. Thoát\n",
    "\"\"\"\n",
    "\n",
    "def main():\n",
    "    while True:\n",
    "        print(menu)\n",
    "        chon_chuc_nang = input(\"Chọn chức năng (1-3): \")\n",
    "        if chon_chuc_nang == '1':\n",
    "            so_nuoc = int(input(\"Nhập số nước tiêu thụ trong tháng (m3): \"))\n",
    "            tien_nuoc = tinh_tien_nuoc(so_nuoc)\n",
    "            print(f\"Tiền nước tháng này là: {tien_nuoc:,} VND - lab4.ipynb:15\")\n",
    "        elif chon_chuc_nang == '2':\n",
    "            s1_bdx = int(input(\"Nhập số bánh đậu xanh cần làm: \"))\n",
    "            s2_btc = int(input(\"Nhập số bánh thập cẩm cần làm: \"))\n",
    "            s3_bd = int(input(\"Nhập số bánh dẻo cần làm: \"))\n",
    "            duong, dau = tinh_nguyen_lieu(s1_bdx, s2_btc, s3_bd)\n",
    "            print(f\"Số đường cần dùng: {duong:.2f} kg - lab4.ipynb:21\")\n",
    "            print(f\"Số đậu cần dùng: {dau:.2f} kg - lab4.ipynb:22\")\n",
    "        elif chon_chuc_nang == '3':\n",
    "            print(\"Thoát chương trình. - lab4.ipynb:24\")\n",
    "            break\n",
    "        else:\n",
    "            print(\"Vui lòng chọn 13! - lab4.ipynb:27\")\n",
    "\n",
    "def tinh_tien_nuoc(so_nuoc):\n",
    "    gia_ban_nuoc = (7500, 8000, 12000, 24000)\n",
    "    if so_nuoc <= 0:\n",
    "        return 0\n",
    "    elif so_nuoc <= 10:\n",
    "        tien_nuoc_thang = so_nuoc * gia_ban_nuoc[0]\n",
    "    elif so_nuoc <= 20:\n",
    "        tien_nuoc_thang = 10 * gia_ban_nuoc[0] + (so_nuoc - 10) * gia_ban_nuoc[1]\n",
    "    elif so_nuoc <= 30:\n",
    "        tien_nuoc_thang = 10 * gia_ban_nuoc[0] + 10 * gia_ban_nuoc[1] + (so_nuoc - 20) * gia_ban_nuoc[2]\n",
    "    else:\n",
    "        tien_nuoc_thang = 10 * gia_ban_nuoc[0] + 10 * gia_ban_nuoc[1] + 10 * gia_ban_nuoc[2] + (so_nuoc - 30) * gia_ban_nuoc[3]\n",
    "    return tien_nuoc_thang\n",
    "\n",
    "def tinh_nguyen_lieu(s1_bdx, s2_btc, s3_bd):\n",
    "    banh_dau_xanh = {\"đường\": 0.04, \"đậu\":0.07}\n",
    "    banh_thap_cam = {\"đường\": 0.06 , \"đậu\":0}\n",
    "    banh_dẻo = {\"đường\": 0.05, \"đậu\":0.02}\n",
    "    duong_lam_banh = s1_bdx * banh_dau_xanh[\"đường\"] + s2_btc * banh_thap_cam[\"đường\"] + s3_bd * banh_dẻo[\"đường\"]\n",
    "    dau_lam_banh = s1_bdx * banh_dau_xanh[\"đậu\"] + s2_btc * banh_thap_cam[\"đậu\"] + s3_bd * banh_dẻo[\"đậu\"]\n",
    "    return duong_lam_banh, dau_lam_banh"
   ]
  },
  {
   "cell_type": "markdown",
   "id": "e2b41d4a",
   "metadata": {},
   "source": [
    "## Lab 4 - Bài 5: bài tập làm thêm"
   ]
  },
  {
   "cell_type": "code",
   "execution_count": null,
   "id": "0e0172f7",
   "metadata": {},
   "outputs": [],
   "source": [
    "# code lab 4  bài làm thêm ở đây "
   ]
  }
 ],
 "metadata": {
  "kernelspec": {
   "display_name": "Python 3",
   "language": "python",
   "name": "python3"
  },
  "language_info": {
   "codemirror_mode": {
    "name": "ipython",
    "version": 3
   },
   "file_extension": ".py",
   "mimetype": "text/x-python",
   "name": "python",
   "nbconvert_exporter": "python",
   "pygments_lexer": "ipython3",
   "version": "3.13.7"
  }
 },
 "nbformat": 4,
 "nbformat_minor": 5
}
